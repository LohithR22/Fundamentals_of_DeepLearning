{
 "cells": [
  {
   "cell_type": "code",
   "execution_count": 3,
   "id": "620b42c2",
   "metadata": {},
   "outputs": [],
   "source": [
    "import math"
   ]
  },
  {
   "cell_type": "code",
   "execution_count": 1,
   "id": "4ae10461",
   "metadata": {},
   "outputs": [],
   "source": [
    "def basic_sigmoid(x):\n",
    "    s = 1/(1+math.exp(-x))\n",
    "    return s"
   ]
  },
  {
   "cell_type": "code",
   "execution_count": 4,
   "id": "4edb6e48",
   "metadata": {},
   "outputs": [
    {
     "data": {
      "text/plain": [
       "0.2689414213699951"
      ]
     },
     "execution_count": 4,
     "metadata": {},
     "output_type": "execute_result"
    }
   ],
   "source": [
    "x = basic_sigmoid(-1)\n",
    "x\n"
   ]
  },
  {
   "cell_type": "code",
   "execution_count": 2,
   "id": "7c526976",
   "metadata": {},
   "outputs": [
    {
     "name": "stdout",
     "output_type": "stream",
     "text": [
      "[ 2.71828183  7.3890561  20.08553692]\n"
     ]
    }
   ],
   "source": [
    "import numpy as np\n",
    "\n",
    "x = np.array([1,2,3])\n",
    "print(np.exp(x))"
   ]
  },
  {
   "cell_type": "code",
   "execution_count": 16,
   "id": "8d682aa3",
   "metadata": {},
   "outputs": [],
   "source": [
    "def np_sigmoid(x):\n",
    "    s = 1/(1+np.exp(-x))\n",
    "    return s"
   ]
  },
  {
   "cell_type": "code",
   "execution_count": 17,
   "id": "f24f5f21",
   "metadata": {},
   "outputs": [
    {
     "data": {
      "text/plain": [
       "array([0.26894142, 0.88079708, 0.95257413])"
      ]
     },
     "execution_count": 17,
     "metadata": {},
     "output_type": "execute_result"
    }
   ],
   "source": [
    "x = np_sigmoid(np.array([-1,2,3]))\n",
    "x"
   ]
  },
  {
   "cell_type": "code",
   "execution_count": 26,
   "id": "22cae835",
   "metadata": {},
   "outputs": [
    {
     "data": {
      "text/plain": [
       "array([0.19661193, 0.10499359, 0.04517666])"
      ]
     },
     "execution_count": 26,
     "metadata": {},
     "output_type": "execute_result"
    }
   ],
   "source": [
    "def grad_sig(x):\n",
    "    sig = np_sigmoid(x)\n",
    "    grad = sig*(1-sig)\n",
    "    return grad\n",
    "\n",
    "x = grad_sig(np.array([-1,2,3]))\n",
    "x"
   ]
  },
  {
   "cell_type": "code",
   "execution_count": 34,
   "id": "2c02229e",
   "metadata": {},
   "outputs": [
    {
     "data": {
      "text/plain": [
       "array([[[0.99666164, 0.98625945],\n",
       "        [0.71872709, 0.09134612],\n",
       "        [0.62017606, 0.27623441]],\n",
       "\n",
       "       [[0.96904223, 0.02961433],\n",
       "        [0.79050749, 0.53211341],\n",
       "        [0.8217187 , 0.58824437]],\n",
       "\n",
       "       [[0.173459  , 0.0341932 ],\n",
       "        [0.71161036, 0.30928128],\n",
       "        [0.65534545, 0.21232792]]])"
      ]
     },
     "execution_count": 34,
     "metadata": {},
     "output_type": "execute_result"
    }
   ],
   "source": [
    "image = np.random.rand(3, 3, 2)\n",
    "image"
   ]
  },
  {
   "cell_type": "code",
   "execution_count": 33,
   "id": "a235454f",
   "metadata": {},
   "outputs": [
    {
     "data": {
      "text/plain": [
       "array([[0.74819418],\n",
       "       [0.12824394],\n",
       "       [0.1535513 ],\n",
       "       [0.63419526],\n",
       "       [0.13718007],\n",
       "       [0.77671503],\n",
       "       [0.03622564],\n",
       "       [0.21836726],\n",
       "       [0.2107273 ],\n",
       "       [0.90150602],\n",
       "       [0.07281708],\n",
       "       [0.72306447],\n",
       "       [0.91217786],\n",
       "       [0.96889226],\n",
       "       [0.49654963],\n",
       "       [0.7399663 ],\n",
       "       [0.82115896],\n",
       "       [0.64596346]])"
      ]
     },
     "execution_count": 33,
     "metadata": {},
     "output_type": "execute_result"
    }
   ],
   "source": [
    "def dim_1D(img):\n",
    "    img = img.reshape(img.shape[0]*img.shape[1]*img.shape[2], 1)\n",
    "    return img\n",
    "\n",
    "image = dim_1D(image)\n",
    "image"
   ]
  },
  {
   "cell_type": "code",
   "execution_count": 44,
   "id": "4be35554",
   "metadata": {},
   "outputs": [
    {
     "data": {
      "text/plain": [
       "array([[[0.72409907, 0.95913624],\n",
       "        [0.52217281, 0.08883401],\n",
       "        [0.45057307, 0.26863766]],\n",
       "\n",
       "       [[0.64758906, 0.03730898],\n",
       "        [0.52827832, 0.67037162],\n",
       "        [0.54913607, 0.741087  ]],\n",
       "\n",
       "       [[0.1764893 , 0.09076898],\n",
       "        [0.7240421 , 0.82101553],\n",
       "        [0.66679425, 0.56364394]]])"
      ]
     },
     "execution_count": 44,
     "metadata": {},
     "output_type": "execute_result"
    }
   ],
   "source": [
    "def norm_row(img):\n",
    "    x_norm = np.linalg.norm(img, axis=1, keepdims = True)\n",
    "    img  = img/x_norm\n",
    "    return img\n",
    "\n",
    "image = norm_row(image)\n",
    "image"
   ]
  },
  {
   "cell_type": "code",
   "execution_count": 45,
   "id": "6c0fb6e9",
   "metadata": {},
   "outputs": [
    {
     "data": {
      "text/plain": [
       "array([[0.        , 0.999992  , 0.00399997],\n",
       "       [0.26726124, 0.80178373, 0.53452248]])"
      ]
     },
     "execution_count": 45,
     "metadata": {},
     "output_type": "execute_result"
    }
   ],
   "source": [
    "img1 = np.array([[0,1000,4], \n",
    "                 [2,6,4]])\n",
    "img1 = norm_row(img1)\n",
    "img1"
   ]
  },
  {
   "cell_type": "code",
   "execution_count": 46,
   "id": "f1ffc905",
   "metadata": {},
   "outputs": [
    {
     "data": {
      "text/plain": [
       "array([[9.80897665e-01, 8.94462891e-04, 1.79657674e-02, 1.21052389e-04,\n",
       "        1.21052389e-04],\n",
       "       [8.78679856e-01, 1.18916387e-01, 8.01252314e-04, 8.01252314e-04,\n",
       "        8.01252314e-04]])"
      ]
     },
     "execution_count": 46,
     "metadata": {},
     "output_type": "execute_result"
    }
   ],
   "source": [
    "def softmax(x):\n",
    "    x_exp = np.exp(x)\n",
    "    \n",
    "    x_sum = np.sum(x_exp, axis = 1, keepdims = True)\n",
    "    \n",
    "    x = x_exp/x_sum\n",
    "    \n",
    "    return x\n",
    "\n",
    "img2 = np.array([[9,2,5,0,0],\n",
    "                [7,5,0,0,0]])\n",
    "img2 = softmax(img2)\n",
    "img2"
   ]
  },
  {
   "cell_type": "code",
   "execution_count": 78,
   "id": "7d045d2b",
   "metadata": {},
   "outputs": [
    {
     "name": "stdout",
     "output_type": "stream",
     "text": [
      "dot = 249696.26141647133\n",
      "----Computation Time----343.75ms\n"
     ]
    }
   ],
   "source": [
    "import time\n",
    "\n",
    "x1 = np.random.rand(1000000)\n",
    "x2 = np.random.rand(1000000)\n",
    "\n",
    "tic = time.process_time()\n",
    "dot = 0\n",
    "for i in range(len(x1)):\n",
    "    dot += x1[i]*x2[i]\n",
    "toc = time.process_time()\n",
    "print(\"dot = \"+str(dot)+\"\\n----Computation Time----\" + str(1000*(toc-tic))+\"ms\")"
   ]
  },
  {
   "cell_type": "code",
   "execution_count": 79,
   "id": "2e5193fd",
   "metadata": {},
   "outputs": [
    {
     "name": "stdout",
     "output_type": "stream",
     "text": [
      "dot = 249696.26141645564\n",
      "----Computation Time----0.0ms\n"
     ]
    }
   ],
   "source": [
    "tic = time.process_time()\n",
    "dot = np.dot(x1,x2)\n",
    "toc = time.process_time()\n",
    "print(\"dot = \"+str(dot)+\"\\n----Computation Time----\" + str(1000*(toc-tic))+\"ms\")"
   ]
  },
  {
   "cell_type": "code",
   "execution_count": 5,
   "id": "67f19efa",
   "metadata": {},
   "outputs": [
    {
     "name": "stdout",
     "output_type": "stream",
     "text": [
      "L1 is 2.0487527823197724\n"
     ]
    }
   ],
   "source": [
    "y_ac = np.random.rand(10)\n",
    "y_pred = np.random.rand(10)\n",
    "\n",
    "print(\"L1 is\", compute_l1(y_ac,y_pred))"
   ]
  },
  {
   "cell_type": "code",
   "execution_count": 4,
   "id": "95d093f3",
   "metadata": {},
   "outputs": [
    {
     "name": "stdout",
     "output_type": "stream",
     "text": [
      "L1 is 0\n"
     ]
    }
   ],
   "source": [
    "def compute_l1(Y, Y_p):\n",
    "    diff = abs(Y-Y_p)\n",
    "    loss = np.sum(diff)\n",
    "    return loss\n",
    "\n",
    "yhat = np.array([1,1,1,1,1])\n",
    "y = np.array([1,1,1,1,1])\n",
    "print(\"L1 is\", compute_l1(y,yhat))"
   ]
  },
  {
   "cell_type": "code",
   "execution_count": 6,
   "id": "230ddaf4",
   "metadata": {},
   "outputs": [
    {
     "name": "stdout",
     "output_type": "stream",
     "text": [
      "L2 is 0.43\n"
     ]
    }
   ],
   "source": [
    "def compute_l2(y, yhat):\n",
    "    diff = y-yhat\n",
    "    loss = np.sum(diff**2)\n",
    "    return loss\n",
    "\n",
    "yhat = np.array([0.9,0.2,0.1,0.4,0.9])\n",
    "y = np.array([1,0,0,1,1])\n",
    "print(\"L2 is\", compute_l2(y,yhat))\n"
   ]
  }
 ],
 "metadata": {
  "kernelspec": {
   "display_name": "Python 3 (ipykernel)",
   "language": "python",
   "name": "python3"
  },
  "language_info": {
   "codemirror_mode": {
    "name": "ipython",
    "version": 3
   },
   "file_extension": ".py",
   "mimetype": "text/x-python",
   "name": "python",
   "nbconvert_exporter": "python",
   "pygments_lexer": "ipython3",
   "version": "3.7.7"
  }
 },
 "nbformat": 4,
 "nbformat_minor": 5
}
